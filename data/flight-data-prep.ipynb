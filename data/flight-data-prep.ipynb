{
 "cells": [
  {
   "cell_type": "code",
   "execution_count": 68,
   "metadata": {
    "scrolled": true
   },
   "outputs": [],
   "source": [
    "import pandas as pd\n",
    "import gpxpy.geo\n",
    "df = pd.read_csv(\"../data/trips.csv\")\n",
    "df['origin_coordinates'] = 'temp'\n",
    "df['destination_coordinates'] = 'temp'"
   ]
  },
  {
   "cell_type": "code",
   "execution_count": 69,
   "metadata": {},
   "outputs": [],
   "source": [
    "from requests import Session\n",
    "import json\n",
    "\n",
    "hereId = \"uHmohQEsYnwhA4FGz1Jw\"\n",
    "hereCode = \"hKz7JnGqtqj5UECMSBqDHw\"\n",
    "\n",
    "\n",
    "session = Session()\n",
    "def place(search_value):\n",
    "    \n",
    "    #weird fix for search returning wrong frankfurt airport\n",
    "    if search_value == \"Frankfurt Airport\":\n",
    "        return [50.05056,8.56442]\n",
    "    else:\n",
    "        search_value = search_value.replace(\" \", \"+\")\n",
    "        base = \"https://places.cit.api.here.com/places/v1/autosuggest?at=90.0000,-142.5048&q=\" + search_value + \"&app_id=\" + hereId + \"&app_code=\" + hereCode\n",
    "        res = session.get(base)\n",
    "        data = json.loads(res.content)\n",
    "        if data['results'] == []:\n",
    "            coordinates_text = \"null\"\n",
    "        else:\n",
    "            coordinates_text = data['results'][0]['position']\n",
    "        return coordinates_text "
   ]
  },
  {
   "cell_type": "code",
   "execution_count": 70,
   "metadata": {},
   "outputs": [],
   "source": [
    "for x in range(0,df.shape[0]):\n",
    "    df['origin_coordinates'][x] = place(df['origin'][x])\n",
    "    df['destination_coordinates'][x] = place(df['destination'][x])"
   ]
  },
  {
   "cell_type": "code",
   "execution_count": 72,
   "metadata": {},
   "outputs": [],
   "source": [
    "df = df.to_dict('records')\n"
   ]
  },
  {
   "cell_type": "code",
   "execution_count": 74,
   "metadata": {},
   "outputs": [],
   "source": [
    "def coord(origin, desti):\n",
    "    print origin\n",
    "    print desti\n",
    "    if ',' in origin and ',' in desti:\n",
    "        one = [float(origin.split(',')[1]), float(origin.split(',')[0])]\n",
    "        two = [float(desti.split(',')[1]), float(desti.split(',')[0])]\n",
    "        return [one, two]\n",
    "    else:\n",
    "        return [origin, desti]"
   ]
  },
  {
   "cell_type": "code",
   "execution_count": 75,
   "metadata": {},
   "outputs": [],
   "source": [
    "#swap lat long\n",
    "for x in range(0,len(df)):\n",
    "    df[x]['origin_coordinates'] = [df[x]['origin_coordinates'][1], df[x]['origin_coordinates'][0]]\n",
    "    df[x]['destination_coordinates'] = [df[x]['destination_coordinates'][1], df[x]['destination_coordinates'][0]]"
   ]
  },
  {
   "cell_type": "code",
   "execution_count": 81,
   "metadata": {},
   "outputs": [],
   "source": [
    "def distance(origin, destination):\n",
    "    distance = (gpxpy.geo.haversine_distance(origin[1], origin[0], destination[1], destination[0])) * 0.000621371\n",
    "    return distance"
   ]
  },
  {
   "cell_type": "code",
   "execution_count": null,
   "metadata": {},
   "outputs": [],
   "source": []
  },
  {
   "cell_type": "code",
   "execution_count": 86,
   "metadata": {},
   "outputs": [],
   "source": [
    "layer = []\n",
    "\n",
    "for x in range(0,len(df)):\n",
    "    layer.append({\n",
    "        \"destination\": df[x]['destination'],\n",
    "        \"origin\": df[x]['origin'],\n",
    "        \"type\": df[x]['type'],\n",
    "        \"airline\": df[x]['airline'],\n",
    "        \"ports\": [df[x]['destination'], df[x]['origin']],\n",
    "        \"date\": df[x]['date'],\n",
    "        \"sourcePosition\": df[x]['origin_coordinates'],\n",
    "        \"targetPosition\": df[x]['destination_coordinates'],\n",
    "        \"distance\": distance(df[x]['origin_coordinates'], df[x]['destination_coordinates']),\n",
    "    })\n",
    "  \n",
    "geojson = {\n",
    "    \"type\": \"FeatureCollection\",\n",
    "    \"features\": []\n",
    "}\n",
    "\n",
    "for x in range(0,len(df)):\n",
    "    geojson['features'].append({\n",
    "        \"geometry\": {\n",
    "            \"type\": \"LineString\",\n",
    "            \"coordinates\": [df[x]['origin_coordinates'], df[x]['destination_coordinates']]\n",
    "        },\n",
    "        \"properties\": {\n",
    "            \"destination\": df[x]['destination'],\n",
    "            \"origin\": df[x]['origin'],\n",
    "            \"type\": df[x]['type'],\n",
    "            \"airline\": df[x]['airline'],\n",
    "            \"ports\": [df[x]['destination'], df[x]['origin']],\n",
    "            \"date\": df[x]['date'],\n",
    "            \"sourcePosition\": df[x]['origin_coordinates'],\n",
    "            \"targetPosition\": df[x]['destination_coordinates'],\n",
    "            \"distance\": distance(df[x]['origin_coordinates'], df[x]['destination_coordinates'])\n",
    "        },\n",
    "        \"type\": \"Feature\",\n",
    "        \"id\": x\n",
    "    })\n",
    "    \n"
   ]
  },
  {
   "cell_type": "code",
   "execution_count": 87,
   "metadata": {},
   "outputs": [],
   "source": [
    "# with open('../data/trips.geojson', 'w') as fp:\n",
    "#     json.dump(geojson, fp)"
   ]
  },
  {
   "cell_type": "code",
   "execution_count": 90,
   "metadata": {},
   "outputs": [],
   "source": [
    "import requests\n",
    "headers = {\n",
    "    'accept': '*/*',\n",
    "    'Authorization': 'Bearer {token}',\n",
    "    'Content-Type': 'application/geo+json',\n",
    "}\n",
    "\n",
    "response = requests.put('https://xyz.api.here.com/hub/spaces/79PII7Rm/features', headers=headers, data=json.dumps(geojson['features']))\n"
   ]
  },
  {
   "cell_type": "code",
   "execution_count": null,
   "metadata": {},
   "outputs": [],
   "source": []
  }
 ],
 "metadata": {
  "kernelspec": {
   "display_name": "Python 2",
   "language": "python",
   "name": "python2"
  },
  "language_info": {
   "codemirror_mode": {
    "name": "ipython",
    "version": 2
   },
   "file_extension": ".py",
   "mimetype": "text/x-python",
   "name": "python",
   "nbconvert_exporter": "python",
   "pygments_lexer": "ipython2",
   "version": "2.7.15"
  }
 },
 "nbformat": 4,
 "nbformat_minor": 1
}
